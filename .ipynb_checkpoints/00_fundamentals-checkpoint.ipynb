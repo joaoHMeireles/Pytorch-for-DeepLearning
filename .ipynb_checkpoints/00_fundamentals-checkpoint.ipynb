{
 "cells": [
  {
   "cell_type": "code",
   "execution_count": 5,
   "id": "d54bcb01-c9b4-4042-8e8a-93fd928dc636",
   "metadata": {},
   "outputs": [
    {
     "name": "stdout",
     "output_type": "stream",
     "text": [
      "2.0.1+cpu\n"
     ]
    }
   ],
   "source": [
    "import pandas as pd\n",
    "import numpy as pd\n",
    "import matplotlib.pyplot as plt\n",
    "import torch\n",
    "\n",
    "print(torch.__version__)"
   ]
  },
  {
   "cell_type": "markdown",
   "id": "f22952d4-3cdf-42da-b639-ca82975871b2",
   "metadata": {
    "jp-MarkdownHeadingCollapsed": true,
    "tags": []
   },
   "source": [
    "#### Scalar"
   ]
  },
  {
   "cell_type": "code",
   "execution_count": 22,
   "id": "ff833694-3f8a-4b1a-855e-1d80c3b59dcc",
   "metadata": {},
   "outputs": [
    {
     "data": {
      "text/plain": [
       "tensor(7)"
      ]
     },
     "execution_count": 22,
     "metadata": {},
     "output_type": "execute_result"
    }
   ],
   "source": [
    "scalar = torch.tensor(7)\n",
    "scalar"
   ]
  },
  {
   "cell_type": "code",
   "execution_count": 23,
   "id": "e83c8ec7-30b8-484c-b910-9302f27f2243",
   "metadata": {},
   "outputs": [
    {
     "data": {
      "text/plain": [
       "0"
      ]
     },
     "execution_count": 23,
     "metadata": {},
     "output_type": "execute_result"
    }
   ],
   "source": [
    "scalar.ndim"
   ]
  },
  {
   "cell_type": "code",
   "execution_count": 24,
   "id": "46b702c1-691f-4765-b92a-20cdffe90eca",
   "metadata": {},
   "outputs": [
    {
     "data": {
      "text/plain": [
       "7"
      ]
     },
     "execution_count": 24,
     "metadata": {},
     "output_type": "execute_result"
    }
   ],
   "source": [
    "scalar.item()"
   ]
  },
  {
   "cell_type": "markdown",
   "id": "e3da3921-832c-4ab3-abf0-64cd71b338a2",
   "metadata": {
    "jp-MarkdownHeadingCollapsed": true,
    "tags": []
   },
   "source": [
    "#### Vector"
   ]
  },
  {
   "cell_type": "code",
   "execution_count": 26,
   "id": "370f2a9f-c564-481a-afe7-0144d39476f8",
   "metadata": {},
   "outputs": [
    {
     "data": {
      "text/plain": [
       "tensor([7, 7])"
      ]
     },
     "execution_count": 26,
     "metadata": {},
     "output_type": "execute_result"
    }
   ],
   "source": [
    "vector = torch.tensor([7,7])\n",
    "vector"
   ]
  },
  {
   "cell_type": "code",
   "execution_count": 27,
   "id": "fb040b42-5355-47ea-8e03-e765664c1dcb",
   "metadata": {},
   "outputs": [
    {
     "data": {
      "text/plain": [
       "1"
      ]
     },
     "execution_count": 27,
     "metadata": {},
     "output_type": "execute_result"
    }
   ],
   "source": [
    "vector.ndim"
   ]
  },
  {
   "cell_type": "code",
   "execution_count": 28,
   "id": "4a2dce6f-5649-49bc-8a00-3962468e3ea5",
   "metadata": {},
   "outputs": [
    {
     "data": {
      "text/plain": [
       "torch.Size([2])"
      ]
     },
     "execution_count": 28,
     "metadata": {},
     "output_type": "execute_result"
    }
   ],
   "source": [
    "vector.shape"
   ]
  },
  {
   "cell_type": "markdown",
   "id": "51e66c01-a566-45da-a119-3e4d5d629a90",
   "metadata": {
    "jp-MarkdownHeadingCollapsed": true,
    "tags": []
   },
   "source": [
    "#### Matrix"
   ]
  },
  {
   "cell_type": "code",
   "execution_count": 37,
   "id": "b37e0a62-20d3-4d0e-b200-99a7fbc3e204",
   "metadata": {},
   "outputs": [
    {
     "data": {
      "text/plain": [
       "tensor([[ 7,  8],\n",
       "        [ 9, 10]])"
      ]
     },
     "execution_count": 37,
     "metadata": {},
     "output_type": "execute_result"
    }
   ],
   "source": [
    "MATRIX = torch.tensor([[7,8], [9,10]])\n",
    "MATRIX"
   ]
  },
  {
   "cell_type": "code",
   "execution_count": 38,
   "id": "c27c9904-9d11-4ddd-9034-436636744bdb",
   "metadata": {},
   "outputs": [
    {
     "data": {
      "text/plain": [
       "2"
      ]
     },
     "execution_count": 38,
     "metadata": {},
     "output_type": "execute_result"
    }
   ],
   "source": [
    "MATRIX.ndim"
   ]
  },
  {
   "cell_type": "code",
   "execution_count": 39,
   "id": "25f2285a-febd-4bad-9933-39f45d3ca8cd",
   "metadata": {},
   "outputs": [
    {
     "data": {
      "text/plain": [
       "torch.Size([2, 2])"
      ]
     },
     "execution_count": 39,
     "metadata": {},
     "output_type": "execute_result"
    }
   ],
   "source": [
    "MATRIX.shape"
   ]
  },
  {
   "cell_type": "markdown",
   "id": "37fd88a1-3e4b-4637-85cf-5112d8893766",
   "metadata": {
    "jp-MarkdownHeadingCollapsed": true,
    "tags": []
   },
   "source": [
    "#### Tensor"
   ]
  },
  {
   "cell_type": "code",
   "execution_count": 40,
   "id": "c0dd7c9f-9552-4063-9ad3-4fdc31152d34",
   "metadata": {},
   "outputs": [
    {
     "data": {
      "text/plain": [
       "tensor([[[1, 2],\n",
       "         [3, 4]],\n",
       "\n",
       "        [[5, 6],\n",
       "         [7, 8]]])"
      ]
     },
     "execution_count": 40,
     "metadata": {},
     "output_type": "execute_result"
    }
   ],
   "source": [
    "TENSOR = torch.tensor([[[1,2], [3,4]], \n",
    "                       [[5,6], [7,8]]])\n",
    "TENSOR"
   ]
  },
  {
   "cell_type": "code",
   "execution_count": 41,
   "id": "f29f658f-0120-4528-b39c-5058f81e4707",
   "metadata": {},
   "outputs": [
    {
     "data": {
      "text/plain": [
       "3"
      ]
     },
     "execution_count": 41,
     "metadata": {},
     "output_type": "execute_result"
    }
   ],
   "source": [
    "TENSOR.ndim"
   ]
  },
  {
   "cell_type": "code",
   "execution_count": 42,
   "id": "859364ca-c913-4ba5-af2b-977dd86d7673",
   "metadata": {},
   "outputs": [
    {
     "data": {
      "text/plain": [
       "torch.Size([2, 2, 2])"
      ]
     },
     "execution_count": 42,
     "metadata": {},
     "output_type": "execute_result"
    }
   ],
   "source": [
    "TENSOR.shape"
   ]
  },
  {
   "cell_type": "markdown",
   "id": "862f3540-545e-4ca3-b72b-9229e11ae410",
   "metadata": {
    "jp-MarkdownHeadingCollapsed": true,
    "tags": []
   },
   "source": [
    "#### Random Tensors"
   ]
  },
  {
   "cell_type": "code",
   "execution_count": 44,
   "id": "edc364bc-2e70-4c6e-b83d-b00f3f8f343a",
   "metadata": {},
   "outputs": [
    {
     "data": {
      "text/plain": [
       "tensor([[0.4842, 0.9865, 0.6533, 0.2933],\n",
       "        [0.8834, 0.1394, 0.6298, 0.5701],\n",
       "        [0.8159, 0.5883, 0.3737, 0.5664]])"
      ]
     },
     "execution_count": 44,
     "metadata": {},
     "output_type": "execute_result"
    }
   ],
   "source": [
    "random_tensor = torch.rand(3,4)\n",
    "random_tensor"
   ]
  },
  {
   "cell_type": "code",
   "execution_count": 45,
   "id": "a2cc01ee-bf00-4f2a-8bba-2b3a67921b9e",
   "metadata": {},
   "outputs": [
    {
     "data": {
      "text/plain": [
       "2"
      ]
     },
     "execution_count": 45,
     "metadata": {},
     "output_type": "execute_result"
    }
   ],
   "source": [
    "random_tensor.ndim"
   ]
  },
  {
   "cell_type": "code",
   "execution_count": 46,
   "id": "b090c972-6f09-4661-8f88-0fe0f62ae791",
   "metadata": {
    "collapsed": true,
    "jupyter": {
     "outputs_hidden": true
    },
    "tags": []
   },
   "outputs": [
    {
     "data": {
      "text/plain": [
       "tensor([[[0.7862, 0.2008, 0.9056],\n",
       "         [0.1818, 0.2238, 0.4675],\n",
       "         [0.1512, 0.2681, 0.6617],\n",
       "         ...,\n",
       "         [0.2186, 0.1475, 0.7086],\n",
       "         [0.3462, 0.9389, 0.2170],\n",
       "         [0.2498, 0.7199, 0.9193]],\n",
       "\n",
       "        [[0.1888, 0.0155, 0.7892],\n",
       "         [0.0120, 0.0472, 0.7800],\n",
       "         [0.3738, 0.8701, 0.7437],\n",
       "         ...,\n",
       "         [0.5070, 0.1714, 0.9394],\n",
       "         [0.3034, 0.5479, 0.5887],\n",
       "         [0.8886, 0.8837, 0.1359]],\n",
       "\n",
       "        [[0.3900, 0.5815, 0.5894],\n",
       "         [0.1889, 0.6251, 0.9455],\n",
       "         [0.1205, 0.6251, 0.7818],\n",
       "         ...,\n",
       "         [0.3422, 0.4555, 0.7161],\n",
       "         [0.7556, 0.1507, 0.5690],\n",
       "         [0.8103, 0.0197, 0.8154]],\n",
       "\n",
       "        ...,\n",
       "\n",
       "        [[0.4850, 0.9237, 0.0191],\n",
       "         [0.8632, 0.5401, 0.0498],\n",
       "         [0.9541, 0.4663, 0.8217],\n",
       "         ...,\n",
       "         [0.8313, 0.5866, 0.7792],\n",
       "         [0.0138, 0.3644, 0.2907],\n",
       "         [0.4097, 0.6429, 0.0302]],\n",
       "\n",
       "        [[0.0887, 0.8117, 0.0617],\n",
       "         [0.3801, 0.8467, 0.6553],\n",
       "         [0.3296, 0.7115, 0.9766],\n",
       "         ...,\n",
       "         [0.3018, 0.8727, 0.9214],\n",
       "         [0.3257, 0.4596, 0.2995],\n",
       "         [0.8183, 0.3236, 0.1586]],\n",
       "\n",
       "        [[0.4255, 0.5726, 0.2437],\n",
       "         [0.4140, 0.2331, 0.2657],\n",
       "         [0.0261, 0.5544, 0.5567],\n",
       "         ...,\n",
       "         [0.2811, 0.5896, 0.8787],\n",
       "         [0.6432, 0.1148, 0.8825],\n",
       "         [0.5415, 0.6602, 0.7892]]])"
      ]
     },
     "execution_count": 46,
     "metadata": {},
     "output_type": "execute_result"
    }
   ],
   "source": [
    "random_image_size_tensor = torch.rand(size=(224,224,3))\n",
    "random_image_size_tensor"
   ]
  },
  {
   "cell_type": "code",
   "execution_count": 47,
   "id": "de745c7f-b9cd-474a-8d67-99d1305a12fd",
   "metadata": {},
   "outputs": [
    {
     "data": {
      "text/plain": [
       "torch.Size([224, 224, 3])"
      ]
     },
     "execution_count": 47,
     "metadata": {},
     "output_type": "execute_result"
    }
   ],
   "source": [
    "random_image_size_tensor.shape"
   ]
  },
  {
   "cell_type": "code",
   "execution_count": 48,
   "id": "65919d7d-9a72-40ce-947a-6be10fbd971b",
   "metadata": {},
   "outputs": [
    {
     "data": {
      "text/plain": [
       "3"
      ]
     },
     "execution_count": 48,
     "metadata": {},
     "output_type": "execute_result"
    }
   ],
   "source": [
    "random_image_size_tensor.ndim"
   ]
  },
  {
   "cell_type": "markdown",
   "id": "10c89cd9-f5bf-424d-a22e-b06cb80eb441",
   "metadata": {
    "jp-MarkdownHeadingCollapsed": true,
    "tags": []
   },
   "source": [
    "#### Zeros and Ones"
   ]
  },
  {
   "cell_type": "code",
   "execution_count": 49,
   "id": "7fc93440-9e93-464b-b816-d90c060441a2",
   "metadata": {},
   "outputs": [
    {
     "data": {
      "text/plain": [
       "tensor([[0., 0., 0., 0.],\n",
       "        [0., 0., 0., 0.],\n",
       "        [0., 0., 0., 0.]])"
      ]
     },
     "execution_count": 49,
     "metadata": {},
     "output_type": "execute_result"
    }
   ],
   "source": [
    "zeros = torch.zeros(3,4)\n",
    "zeros"
   ]
  },
  {
   "cell_type": "code",
   "execution_count": 50,
   "id": "742f3258-5535-43c2-96fa-5f3ac92ac6fb",
   "metadata": {},
   "outputs": [
    {
     "data": {
      "text/plain": [
       "tensor([[1., 1., 1., 1.],\n",
       "        [1., 1., 1., 1.],\n",
       "        [1., 1., 1., 1.]])"
      ]
     },
     "execution_count": 50,
     "metadata": {},
     "output_type": "execute_result"
    }
   ],
   "source": [
    "ones = torch.ones(3,4)\n",
    "ones"
   ]
  },
  {
   "cell_type": "code",
   "execution_count": 51,
   "id": "c59e83ba-5866-4fec-a4ef-06ed6708f767",
   "metadata": {},
   "outputs": [
    {
     "data": {
      "text/plain": [
       "torch.float32"
      ]
     },
     "execution_count": 51,
     "metadata": {},
     "output_type": "execute_result"
    }
   ],
   "source": [
    "ones.dtype"
   ]
  },
  {
   "cell_type": "markdown",
   "id": "0b5df0f0-eaa3-4770-8ec7-ddb3579db21c",
   "metadata": {
    "jp-MarkdownHeadingCollapsed": true,
    "tags": []
   },
   "source": [
    "#### Tensors in a range"
   ]
  },
  {
   "cell_type": "code",
   "execution_count": 59,
   "id": "5efc9a1b-4c16-4520-89ad-7ecaff649b82",
   "metadata": {},
   "outputs": [
    {
     "data": {
      "text/plain": [
       "tensor([ 1,  2,  3,  4,  5,  6,  7,  8,  9, 10])"
      ]
     },
     "execution_count": 59,
     "metadata": {},
     "output_type": "execute_result"
    }
   ],
   "source": [
    "one_to_ten = torch.arange(start=1, end=11, step=1)\n",
    "one_to_ten"
   ]
  },
  {
   "cell_type": "code",
   "execution_count": 60,
   "id": "9fc0092f-d78d-4deb-8be8-589baccc3948",
   "metadata": {},
   "outputs": [
    {
     "data": {
      "text/plain": [
       "tensor([0, 0, 0, 0, 0, 0, 0, 0, 0, 0])"
      ]
     },
     "execution_count": 60,
     "metadata": {},
     "output_type": "execute_result"
    }
   ],
   "source": [
    "ten_zeros = torch.zeros_like(one_to_ten)\n",
    "ten_zeros"
   ]
  },
  {
   "cell_type": "markdown",
   "id": "30001f4f-0498-44f8-87bd-9870ae0f7a2e",
   "metadata": {
    "jp-MarkdownHeadingCollapsed": true,
    "tags": []
   },
   "source": [
    "#### Data Types"
   ]
  },
  {
   "cell_type": "code",
   "execution_count": 82,
   "id": "0ab8bf5f-5b76-4649-8d64-e08f93437df0",
   "metadata": {},
   "outputs": [
    {
     "data": {
      "text/plain": [
       "tensor([3., 6., 9.])"
      ]
     },
     "execution_count": 82,
     "metadata": {},
     "output_type": "execute_result"
    }
   ],
   "source": [
    "float_32_tensor = torch.tensor([3.0,6.0,9.0], \n",
    "                               dtype=None, # what datatype is the tensor\n",
    "                               device=None, # what device is your tensor on(cuda,...)\n",
    "                               requires_grad=False #track the gradients or not\n",
    "                               )\n",
    "float_32_tensor"
   ]
  },
  {
   "cell_type": "code",
   "execution_count": 83,
   "id": "92108857-869a-470c-9364-4dbc750d798a",
   "metadata": {},
   "outputs": [
    {
     "data": {
      "text/plain": [
       "torch.float32"
      ]
     },
     "execution_count": 83,
     "metadata": {},
     "output_type": "execute_result"
    }
   ],
   "source": [
    "float_32_tensor.dtype"
   ]
  },
  {
   "cell_type": "code",
   "execution_count": 84,
   "id": "4452cb28-f4a6-4fef-94aa-a7e489a8c13b",
   "metadata": {},
   "outputs": [
    {
     "data": {
      "text/plain": [
       "tensor([3., 6., 9.], dtype=torch.float16)"
      ]
     },
     "execution_count": 84,
     "metadata": {},
     "output_type": "execute_result"
    }
   ],
   "source": [
    "float_16_tensor = float_32_tensor.type(torch.float16)\n",
    "float_16_tensor"
   ]
  },
  {
   "cell_type": "code",
   "execution_count": 85,
   "id": "67f2b7ff-3f93-4bd5-a141-fee0089b3d16",
   "metadata": {},
   "outputs": [
    {
     "data": {
      "text/plain": [
       "tensor([ 9., 36., 81.])"
      ]
     },
     "execution_count": 85,
     "metadata": {},
     "output_type": "execute_result"
    }
   ],
   "source": [
    "float_32_tensor * float_16_tensor"
   ]
  },
  {
   "cell_type": "code",
   "execution_count": 93,
   "id": "1bc5152e-a7b4-4c23-b067-f6046cb45cc0",
   "metadata": {},
   "outputs": [
    {
     "data": {
      "text/plain": [
       "tensor([3, 6, 9], dtype=torch.int32)"
      ]
     },
     "execution_count": 93,
     "metadata": {},
     "output_type": "execute_result"
    }
   ],
   "source": [
    "int_32_tensor = torch.tensor([3,6,9], dtype=torch.int32)\n",
    "int_32_tensor"
   ]
  },
  {
   "cell_type": "code",
   "execution_count": 94,
   "id": "e72dfb6f-b105-481a-be01-5a0bde805ed1",
   "metadata": {},
   "outputs": [
    {
     "data": {
      "text/plain": [
       "tensor([ 9., 36., 81.])"
      ]
     },
     "execution_count": 94,
     "metadata": {},
     "output_type": "execute_result"
    }
   ],
   "source": [
    "int_32_tensor * float_32_tensor"
   ]
  },
  {
   "cell_type": "markdown",
   "id": "c6d96714-72e3-4356-a853-1a7c4ba84f50",
   "metadata": {
    "jp-MarkdownHeadingCollapsed": true,
    "tags": []
   },
   "source": [
    "#### Tensor attributes"
   ]
  },
  {
   "cell_type": "code",
   "execution_count": 100,
   "id": "6d509f22-72ea-437f-b2ef-9503de489a85",
   "metadata": {},
   "outputs": [
    {
     "data": {
      "text/plain": [
       "tensor([[0.0914, 0.5661, 0.9665, 0.8107],\n",
       "        [0.5223, 0.8125, 0.2247, 0.7909],\n",
       "        [0.0825, 0.4963, 0.0720, 0.9988]])"
      ]
     },
     "execution_count": 100,
     "metadata": {},
     "output_type": "execute_result"
    }
   ],
   "source": [
    "some_tensor = torch.rand(3,4)\n",
    "some_tensor"
   ]
  },
  {
   "cell_type": "code",
   "execution_count": 101,
   "id": "80c520c5-bc56-4c96-b63d-a56b36cff9d7",
   "metadata": {},
   "outputs": [
    {
     "data": {
      "text/plain": [
       "torch.float32"
      ]
     },
     "execution_count": 101,
     "metadata": {},
     "output_type": "execute_result"
    }
   ],
   "source": [
    "some_tensor.dtype"
   ]
  },
  {
   "cell_type": "code",
   "execution_count": 106,
   "id": "4b78e80a-f49a-45d8-a570-31b612e5d500",
   "metadata": {},
   "outputs": [
    {
     "data": {
      "text/plain": [
       "torch.Size([3, 4])"
      ]
     },
     "execution_count": 106,
     "metadata": {},
     "output_type": "execute_result"
    }
   ],
   "source": [
    "some_tensor.shape"
   ]
  },
  {
   "cell_type": "code",
   "execution_count": 107,
   "id": "390eaa3f-1acd-4f9e-955b-b95accad16ea",
   "metadata": {},
   "outputs": [
    {
     "data": {
      "text/plain": [
       "device(type='cpu')"
      ]
     },
     "execution_count": 107,
     "metadata": {},
     "output_type": "execute_result"
    }
   ],
   "source": [
    "some_tensor.device"
   ]
  },
  {
   "cell_type": "markdown",
   "id": "575063d8-8b89-4792-9669-6d8597fa9f5c",
   "metadata": {
    "jp-MarkdownHeadingCollapsed": true,
    "tags": []
   },
   "source": [
    "#### Manipulating tensors"
   ]
  },
  {
   "cell_type": "code",
   "execution_count": 108,
   "id": "4dce547a-a821-414c-81ab-036f3ad3de2e",
   "metadata": {},
   "outputs": [
    {
     "data": {
      "text/plain": [
       "tensor([11, 12, 13])"
      ]
     },
     "execution_count": 108,
     "metadata": {},
     "output_type": "execute_result"
    }
   ],
   "source": [
    "tensor = torch.tensor([1,2,3])\n",
    "tensor + 10"
   ]
  },
  {
   "cell_type": "code",
   "execution_count": 109,
   "id": "20431509-d941-4e57-8b86-d3a87e9771d4",
   "metadata": {},
   "outputs": [
    {
     "data": {
      "text/plain": [
       "tensor([10, 20, 30])"
      ]
     },
     "execution_count": 109,
     "metadata": {},
     "output_type": "execute_result"
    }
   ],
   "source": [
    "tensor * 10"
   ]
  },
  {
   "cell_type": "code",
   "execution_count": 110,
   "id": "5696a9ad-fbdf-4c1b-af50-0399f4cc9875",
   "metadata": {},
   "outputs": [
    {
     "data": {
      "text/plain": [
       "tensor([-9, -8, -7])"
      ]
     },
     "execution_count": 110,
     "metadata": {},
     "output_type": "execute_result"
    }
   ],
   "source": [
    "tensor - 10"
   ]
  },
  {
   "cell_type": "code",
   "execution_count": 117,
   "id": "e421e5e7-51db-455c-bedc-9ccdfa4c9f7a",
   "metadata": {},
   "outputs": [
    {
     "data": {
      "text/plain": [
       "tensor([0.1000, 0.2000, 0.3000])"
      ]
     },
     "execution_count": 117,
     "metadata": {},
     "output_type": "execute_result"
    }
   ],
   "source": [
    "tensor / 10"
   ]
  },
  {
   "cell_type": "markdown",
   "id": "5cae08c0-f6a5-407c-8795-ddc8a3b31c7b",
   "metadata": {
    "jp-MarkdownHeadingCollapsed": true,
    "tags": []
   },
   "source": [
    "###### Functions"
   ]
  },
  {
   "cell_type": "code",
   "execution_count": 113,
   "id": "4b8ac767-7115-4f3f-b636-57a0406c9da3",
   "metadata": {},
   "outputs": [
    {
     "data": {
      "text/plain": [
       "tensor([11, 12, 13])"
      ]
     },
     "execution_count": 113,
     "metadata": {},
     "output_type": "execute_result"
    }
   ],
   "source": [
    "torch.add(tensor, 10)"
   ]
  },
  {
   "cell_type": "code",
   "execution_count": 112,
   "id": "d7639c27-e422-4bc7-b830-93e2710b250d",
   "metadata": {},
   "outputs": [
    {
     "data": {
      "text/plain": [
       "tensor([10, 20, 30])"
      ]
     },
     "execution_count": 112,
     "metadata": {},
     "output_type": "execute_result"
    }
   ],
   "source": [
    "torch.mul(tensor, 10)"
   ]
  },
  {
   "cell_type": "code",
   "execution_count": 116,
   "id": "b2a83ede-ae7e-4421-8128-6d0605c3afb1",
   "metadata": {},
   "outputs": [
    {
     "data": {
      "text/plain": [
       "tensor([-9, -8, -7])"
      ]
     },
     "execution_count": 116,
     "metadata": {},
     "output_type": "execute_result"
    }
   ],
   "source": [
    "torch.subtract(tensor, 10)"
   ]
  },
  {
   "cell_type": "code",
   "execution_count": 118,
   "id": "39a77021-ec00-4222-8462-64b1673bef6b",
   "metadata": {},
   "outputs": [
    {
     "data": {
      "text/plain": [
       "tensor([0.1000, 0.2000, 0.3000])"
      ]
     },
     "execution_count": 118,
     "metadata": {},
     "output_type": "execute_result"
    }
   ],
   "source": [
    "torch.divide(tensor, 10)"
   ]
  },
  {
   "cell_type": "markdown",
   "id": "43cddb7e-4ac2-45ca-b9d1-12d57770853f",
   "metadata": {
    "jp-MarkdownHeadingCollapsed": true,
    "tags": []
   },
   "source": [
    "###### Matrix multiplication"
   ]
  },
  {
   "cell_type": "code",
   "execution_count": 119,
   "id": "ba24b4af-51bf-4dc9-9e34-4500815c45bf",
   "metadata": {},
   "outputs": [
    {
     "data": {
      "text/plain": [
       "tensor([1, 4, 9])"
      ]
     },
     "execution_count": 119,
     "metadata": {},
     "output_type": "execute_result"
    }
   ],
   "source": [
    "tensor * tensor"
   ]
  },
  {
   "cell_type": "code",
   "execution_count": 120,
   "id": "4706b7dc-d951-4d19-8c68-39048b6cc1aa",
   "metadata": {},
   "outputs": [
    {
     "data": {
      "text/plain": [
       "tensor(14)"
      ]
     },
     "execution_count": 120,
     "metadata": {},
     "output_type": "execute_result"
    }
   ],
   "source": [
    "torch.matmul(tensor, tensor)"
   ]
  },
  {
   "cell_type": "code",
   "execution_count": 172,
   "id": "ea7f8b98-e08f-414a-a68f-e941313d2260",
   "metadata": {},
   "outputs": [
    {
     "name": "stdout",
     "output_type": "stream",
     "text": [
      "Deu merda como era previsto:  mat1 and mat2 shapes cannot be multiplied (3x2 and 3x2)\n"
     ]
    }
   ],
   "source": [
    "try:\n",
    "    torch.matmul( torch.rand(3,2) , torch.rand(3,2))\n",
    "\n",
    "except Exception as error:\n",
    "    print(\"Deu merda como era previsto: \", error)"
   ]
  },
  {
   "cell_type": "code",
   "execution_count": 127,
   "id": "5179bf66-ece3-41a5-9dbb-2b5079553bc7",
   "metadata": {},
   "outputs": [
    {
     "data": {
      "text/plain": [
       "tensor([[0.1769, 0.7445, 0.1486],\n",
       "        [0.2213, 0.9223, 0.2634],\n",
       "        [0.1521, 0.6376, 0.1508]])"
      ]
     },
     "execution_count": 127,
     "metadata": {},
     "output_type": "execute_result"
    }
   ],
   "source": [
    "torch.matmul( torch.rand(3,2) , torch.rand(2,3))"
   ]
  },
  {
   "cell_type": "code",
   "execution_count": 128,
   "id": "aadcb300-af6c-457b-a80e-55dd26d12227",
   "metadata": {},
   "outputs": [
    {
     "data": {
      "text/plain": [
       "tensor([[0.3790, 0.2218],\n",
       "        [0.6156, 0.5301]])"
      ]
     },
     "execution_count": 128,
     "metadata": {},
     "output_type": "execute_result"
    }
   ],
   "source": [
    "torch.matmul( torch.rand(2,3) , torch.rand(3,2))"
   ]
  },
  {
   "cell_type": "code",
   "execution_count": 132,
   "id": "5d733fa3-4666-4f57-9ac4-890b4b99f437",
   "metadata": {},
   "outputs": [
    {
     "data": {
      "text/plain": [
       "tensor([[ 23,  29,  35],\n",
       "        [ 53,  67,  81],\n",
       "        [ 83, 105, 127]])"
      ]
     },
     "execution_count": 132,
     "metadata": {},
     "output_type": "execute_result"
    }
   ],
   "source": [
    "tensor_A = torch.tensor([[1,2],\n",
    "                         [3,4],\n",
    "                         [5,6]])\n",
    "\n",
    "tensor_B = torch.tensor([[7,8],\n",
    "                        [9,10],\n",
    "                        [11,12]])\n",
    "\n",
    "tensor_B = tensor_B.T #Transpose\n",
    "\n",
    "torch.mm(tensor_A, tensor_B) # same as torch.matmul()"
   ]
  },
  {
   "cell_type": "markdown",
   "id": "664b6540-b0b8-4c12-8dda-b91223c2235f",
   "metadata": {
    "jp-MarkdownHeadingCollapsed": true,
    "tags": []
   },
   "source": [
    "#### Tensor aggregations"
   ]
  },
  {
   "cell_type": "code",
   "execution_count": 143,
   "id": "62783afa-94e2-4920-b4a2-220abd4724e8",
   "metadata": {},
   "outputs": [
    {
     "data": {
      "text/plain": [
       "tensor([ 0, 10, 20, 30, 40, 50, 60, 70, 80, 90])"
      ]
     },
     "execution_count": 143,
     "metadata": {},
     "output_type": "execute_result"
    }
   ],
   "source": [
    "x = torch.arange(0, 100,10)\n",
    "x"
   ]
  },
  {
   "cell_type": "code",
   "execution_count": 144,
   "id": "27b0dfa1-a81c-44e9-ae9b-d538ce5d8ad7",
   "metadata": {},
   "outputs": [
    {
     "data": {
      "text/plain": [
       "(tensor(0), tensor(0))"
      ]
     },
     "execution_count": 144,
     "metadata": {},
     "output_type": "execute_result"
    }
   ],
   "source": [
    "torch.min(x) , x.min()"
   ]
  },
  {
   "cell_type": "code",
   "execution_count": 145,
   "id": "f1ff4a3f-d4b6-4ed5-964c-e892a6267a9b",
   "metadata": {},
   "outputs": [
    {
     "data": {
      "text/plain": [
       "(tensor(90), tensor(90))"
      ]
     },
     "execution_count": 145,
     "metadata": {},
     "output_type": "execute_result"
    }
   ],
   "source": [
    "torch.max(x) , x.max()"
   ]
  },
  {
   "cell_type": "code",
   "execution_count": 150,
   "id": "6cb0c97e-fa8a-442e-804d-9c1f5b28398e",
   "metadata": {},
   "outputs": [
    {
     "data": {
      "text/plain": [
       "(tensor(45.), tensor(45.))"
      ]
     },
     "execution_count": 150,
     "metadata": {},
     "output_type": "execute_result"
    }
   ],
   "source": [
    "# because the mean function subject needs to be a float\n",
    "torch.mean(x, dtype=torch.float32) , x.type(torch.float32).mean() "
   ]
  },
  {
   "cell_type": "code",
   "execution_count": 152,
   "id": "32c146fd-a8c3-4dd0-a992-88ff839392e3",
   "metadata": {},
   "outputs": [
    {
     "data": {
      "text/plain": [
       "(tensor(450), tensor(450))"
      ]
     },
     "execution_count": 152,
     "metadata": {},
     "output_type": "execute_result"
    }
   ],
   "source": [
    "torch.sum(x) , x.sum()"
   ]
  },
  {
   "cell_type": "code",
   "execution_count": 170,
   "id": "acf1a484-76c7-4e00-8abe-48ca4e02c26e",
   "metadata": {},
   "outputs": [
    {
     "data": {
      "text/plain": [
       "(tensor(0), tensor(0))"
      ]
     },
     "execution_count": 170,
     "metadata": {},
     "output_type": "execute_result"
    }
   ],
   "source": [
    "# return the position of the lowest value inside the tensor\n",
    "torch.argmin(x) , x.argmin()"
   ]
  },
  {
   "cell_type": "code",
   "execution_count": 169,
   "id": "4d883de4-66eb-457c-b4ea-cf838e92b0f3",
   "metadata": {},
   "outputs": [
    {
     "data": {
      "text/plain": [
       "(tensor(9), tensor(9))"
      ]
     },
     "execution_count": 169,
     "metadata": {},
     "output_type": "execute_result"
    }
   ],
   "source": [
    "# return the position of the highest value inside the tensor\n",
    "torch.argmax(x) , x.argmax()"
   ]
  },
  {
   "cell_type": "markdown",
   "id": "b913a988-8c90-44b0-a00c-d1c8682a1773",
   "metadata": {},
   "source": [
    "#### Reshaping, viewing and stacking tensors"
   ]
  },
  {
   "cell_type": "code",
   "execution_count": 174,
   "id": "5cc14fc5-40d3-42a6-8490-acdda9c34f73",
   "metadata": {},
   "outputs": [
    {
     "data": {
      "text/plain": [
       "(tensor([1., 2., 3., 4., 5., 6., 7., 8., 9.]), torch.Size([9]))"
      ]
     },
     "execution_count": 174,
     "metadata": {},
     "output_type": "execute_result"
    }
   ],
   "source": [
    "y = torch.arange(1., 10.)\n",
    "y , y.shape"
   ]
  },
  {
   "cell_type": "code",
   "execution_count": 180,
   "id": "90790b34-218f-43bd-8a2b-780f946c1cbf",
   "metadata": {},
   "outputs": [
    {
     "data": {
      "text/plain": [
       "tensor([[1., 2., 3., 4., 5., 6., 7., 8., 9.]])"
      ]
     },
     "execution_count": 180,
     "metadata": {},
     "output_type": "execute_result"
    }
   ],
   "source": [
    "y.reshape(1,9)"
   ]
  },
  {
   "cell_type": "code",
   "execution_count": 181,
   "id": "48787767-c354-47ea-bd88-acd785b6547a",
   "metadata": {},
   "outputs": [
    {
     "data": {
      "text/plain": [
       "tensor([[1.],\n",
       "        [2.],\n",
       "        [3.],\n",
       "        [4.],\n",
       "        [5.],\n",
       "        [6.],\n",
       "        [7.],\n",
       "        [8.],\n",
       "        [9.]])"
      ]
     },
     "execution_count": 181,
     "metadata": {},
     "output_type": "execute_result"
    }
   ],
   "source": [
    "y.reshape(9,1)"
   ]
  },
  {
   "cell_type": "code",
   "execution_count": 182,
   "id": "653b5e15-0455-45e6-a8b2-ca0d88b67966",
   "metadata": {},
   "outputs": [
    {
     "data": {
      "text/plain": [
       "tensor([[1., 2., 3.],\n",
       "        [4., 5., 6.],\n",
       "        [7., 8., 9.]])"
      ]
     },
     "execution_count": 182,
     "metadata": {},
     "output_type": "execute_result"
    }
   ],
   "source": [
    "y.reshape(3,3)"
   ]
  },
  {
   "cell_type": "code",
   "execution_count": null,
   "id": "b3827bca-b094-4c30-89e6-bec89430ca3b",
   "metadata": {},
   "outputs": [],
   "source": []
  },
  {
   "cell_type": "code",
   "execution_count": null,
   "id": "74bc3a31-4b96-40fb-81a5-0fe0d31d0e75",
   "metadata": {},
   "outputs": [],
   "source": []
  },
  {
   "cell_type": "code",
   "execution_count": null,
   "id": "9f09b099-2490-4b51-8941-de5aab5ed477",
   "metadata": {},
   "outputs": [],
   "source": []
  },
  {
   "cell_type": "code",
   "execution_count": null,
   "id": "c9af5f6a-fb64-4a82-9d82-f503b194650b",
   "metadata": {},
   "outputs": [],
   "source": []
  },
  {
   "cell_type": "code",
   "execution_count": null,
   "id": "f4a1acd2-525f-4108-a315-42e8d87a9e60",
   "metadata": {},
   "outputs": [],
   "source": []
  },
  {
   "cell_type": "markdown",
   "id": "88d3bfa8-d243-4513-a418-b1dedf40dad5",
   "metadata": {
    "jp-MarkdownHeadingCollapsed": true,
    "tags": []
   },
   "source": [
    "#### Experiments"
   ]
  },
  {
   "cell_type": "code",
   "execution_count": 53,
   "id": "639b9486-ee00-492e-9fc8-1211e86d7c1d",
   "metadata": {},
   "outputs": [
    {
     "data": {
      "text/plain": [
       "tensor([[1., 0., 0.],\n",
       "        [0., 1., 0.],\n",
       "        [0., 0., 1.]])"
      ]
     },
     "execution_count": 53,
     "metadata": {},
     "output_type": "execute_result"
    }
   ],
   "source": [
    "torch.eye(3,3)"
   ]
  },
  {
   "cell_type": "code",
   "execution_count": 154,
   "id": "250409e2-8720-4d7b-ad8e-44eeed2b30d7",
   "metadata": {},
   "outputs": [
    {
     "data": {
      "text/plain": [
       "(tensor(40), tensor(40))"
      ]
     },
     "execution_count": 154,
     "metadata": {},
     "output_type": "execute_result"
    }
   ],
   "source": [
    "torch.median(x) , x.median()"
   ]
  },
  {
   "cell_type": "code",
   "execution_count": 158,
   "id": "a9d2b3fd-5155-4d06-8f61-1bcd944811f6",
   "metadata": {},
   "outputs": [
    {
     "data": {
      "text/plain": [
       "(tensor(30.2765), tensor(30.2765))"
      ]
     },
     "execution_count": 158,
     "metadata": {},
     "output_type": "execute_result"
    }
   ],
   "source": [
    "torch.std(x.type(torch.float32)) , x.type(torch.float32).std()"
   ]
  },
  {
   "cell_type": "markdown",
   "id": "d13afc9a-80c6-4801-a496-4d3b498467a9",
   "metadata": {
    "jp-MarkdownHeadingCollapsed": true,
    "tags": []
   },
   "source": [
    "#### Observations"
   ]
  },
  {
   "cell_type": "markdown",
   "id": "5a825cf6-af47-47b4-b14c-e2996845fb43",
   "metadata": {},
   "source": [
    "Tensor datatypes is one of the 3 big errors you'll run into with PyTorch & deep learning:\n",
    "1. Tensors not right datatype\n",
    "2. Tensors not right shape\n",
    "3. Tensors not on the right device"
   ]
  },
  {
   "cell_type": "markdown",
   "id": "cb0ddeb8-d4cd-45e7-a6ff-20ebc54ba5f8",
   "metadata": {},
   "source": [
    "The two rules of matrix multiplication:\n",
    "1. The **inner dimensions** must match (tá ligado né multiplica coluna com linha tem que ter o mesmo número)\n",
    "2. The resulting matrix has the shape of the"
   ]
  },
  {
   "cell_type": "code",
   "execution_count": null,
   "id": "339dd4bb-8c5b-418f-86e3-49f2d27c51db",
   "metadata": {},
   "outputs": [],
   "source": []
  }
 ],
 "metadata": {
  "kernelspec": {
   "display_name": "Python 3 (ipykernel)",
   "language": "python",
   "name": "python3"
  },
  "language_info": {
   "codemirror_mode": {
    "name": "ipython",
    "version": 3
   },
   "file_extension": ".py",
   "mimetype": "text/x-python",
   "name": "python",
   "nbconvert_exporter": "python",
   "pygments_lexer": "ipython3",
   "version": "3.9.13"
  }
 },
 "nbformat": 4,
 "nbformat_minor": 5
}
